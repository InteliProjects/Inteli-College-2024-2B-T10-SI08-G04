{
 "cells": [
  {
   "cell_type": "markdown",
   "metadata": {},
   "source": [
    "## Tratamento de Tabela\n",
    "Este notebook realiza o carregamento, limpeza e transformação de um conjunto de dados para ser colocado na AWS S3."
   ]
  },
  {
   "cell_type": "code",
   "execution_count": null,
   "metadata": {},
   "outputs": [],
   "source": [
    "import pandas as pd"
   ]
  },
  {
   "cell_type": "markdown",
   "metadata": {},
   "source": [
    "## Carregando o DataFrame\n",
    "\n",
    "Para carregar o DataFrame, você deve colocar o arquivo csv \"dmo_anl_vw_tot_mov_periodo.csv\" na pasta 'copper-etl', depois copiar o caminho em 'Copy Path' e depois colocar em file_path.\n",
    "\n"
   ]
  },
  {
   "cell_type": "code",
   "execution_count": 6,
   "metadata": {},
   "outputs": [
    {
     "name": "stdout",
     "output_type": "stream",
     "text": [
      "   id_dt_hora_minuto  cod_bilh  cd_estac_bu       dt_validacao  \\\n",
      "0                 46      3001          619  10/24/23 00:00:00   \n",
      "1                 46      3001          619  10/25/23 00:00:00   \n",
      "2                 46      3001          619  10/26/23 00:00:00   \n",
      "3                 46      3001          619  10/27/23 00:00:00   \n",
      "4                 46      3001          619  10/28/23 00:00:00   \n",
      "\n",
      "   total_validacoes tipo_dia  \n",
      "0                59        U  \n",
      "1               107        U  \n",
      "2                67        U  \n",
      "3                66        U  \n",
      "4                78        S  \n"
     ]
    }
   ],
   "source": [
    "file_path = r'dmo_anl_vw_tot_mov_periodo.csv'\n",
    "\n",
    "df = pd.read_csv(file_path, encoding='latin1', low_memory=False)\n",
    "\n",
    "print(df.head())"
   ]
  },
  {
   "cell_type": "markdown",
   "metadata": {},
   "source": [
    "## Preparação dos dados\n",
    "Essas etapas preparam o conjunto de dados para análise, assegurando que ele esteja completo (sem nulos), consistente (com colunas tratadas e tipos de dados corretos) e único (sem duplicatas). Com o DataFrame limpo e estruturado, pode-se prosseguir para o S3."
   ]
  },
  {
   "cell_type": "code",
   "execution_count": 7,
   "metadata": {},
   "outputs": [],
   "source": [
    "numeric_cols = df.select_dtypes(include=['float64', 'int64']).columns\n",
    "df[numeric_cols] = df[numeric_cols].fillna(df[numeric_cols].mean())\n"
   ]
  },
  {
   "cell_type": "code",
   "execution_count": 9,
   "metadata": {},
   "outputs": [],
   "source": [
    "for col in mixed_type_cols:\n",
    "    df[col] = pd.to_numeric(df[col], errors='coerce')\n"
   ]
  },
  {
   "cell_type": "code",
   "execution_count": 10,
   "metadata": {},
   "outputs": [],
   "source": [
    "df[mixed_type_cols] = df[mixed_type_cols].fillna(df[mixed_type_cols].mean())\n"
   ]
  },
  {
   "cell_type": "code",
   "execution_count": 11,
   "metadata": {},
   "outputs": [],
   "source": [
    "for col in mixed_type_cols:\n",
    "    df[col] = df[col].astype(str)"
   ]
  },
  {
   "cell_type": "code",
   "execution_count": 12,
   "metadata": {},
   "outputs": [],
   "source": [
    "for col in mixed_type_cols:\n",
    "    if df[col].dtype == 'object':\n",
    "        df[col] = df[col].fillna(df[col].mode()[0])"
   ]
  },
  {
   "cell_type": "code",
   "execution_count": 13,
   "metadata": {},
   "outputs": [
    {
     "name": "stdout",
     "output_type": "stream",
     "text": [
      "id_dt_hora_minuto     int64\n",
      "cod_bilh              int64\n",
      "cd_estac_bu           int64\n",
      "dt_validacao         object\n",
      "total_validacoes      int64\n",
      "tipo_dia             object\n",
      "dtype: object\n"
     ]
    }
   ],
   "source": [
    "print(df.dtypes)"
   ]
  },
  {
   "cell_type": "code",
   "execution_count": 14,
   "metadata": {},
   "outputs": [
    {
     "name": "stdout",
     "output_type": "stream",
     "text": [
      "Número de linhas após remoção de duplicatas: 3028393\n"
     ]
    }
   ],
   "source": [
    "df.drop_duplicates(inplace=True)\n",
    "print(f\"Número de linhas após remoção de duplicatas: {len(df)}\")"
   ]
  },
  {
   "cell_type": "markdown",
   "metadata": {},
   "source": [
    "Transformando para .parquet"
   ]
  },
  {
   "cell_type": "code",
   "execution_count": 23,
   "metadata": {},
   "outputs": [],
   "source": [
    "df.to_parquet('dmo_anl_vw_tot_mov_periodo.parquet', index=False)"
   ]
  }
 ],
 "metadata": {
  "kernelspec": {
   "display_name": "Python 3",
   "language": "python",
   "name": "python3"
  },
  "language_info": {
   "codemirror_mode": {
    "name": "ipython",
    "version": 3
   },
   "file_extension": ".py",
   "mimetype": "text/x-python",
   "name": "python",
   "nbconvert_exporter": "python",
   "pygments_lexer": "ipython3",
   "version": "3.12.4"
  }
 },
 "nbformat": 4,
 "nbformat_minor": 2
}
